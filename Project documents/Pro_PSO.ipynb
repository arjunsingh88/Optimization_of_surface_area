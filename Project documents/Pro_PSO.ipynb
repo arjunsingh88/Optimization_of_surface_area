{
  "nbformat": 4,
  "nbformat_minor": 0,
  "metadata": {
    "colab": {
      "name": "Pro_PSO.ipynb",
      "provenance": [],
      "collapsed_sections": [],
      "toc_visible": true
    },
    "kernelspec": {
      "name": "python3",
      "display_name": "Python 3"
    }
  },
  "cells": [
    {
      "cell_type": "markdown",
      "metadata": {
        "id": "oXw6A2pymdf-",
        "colab_type": "text"
      },
      "source": [
        "Particle Swarm Optimization"
      ]
    },
    {
      "cell_type": "markdown",
      "metadata": {
        "id": "5XDhqgjrmPuQ",
        "colab_type": "text"
      },
      "source": [
        "For No of runs = 30, My algorithm tends to stabalize which is a good thing\n"
      ]
    },
    {
      "cell_type": "code",
      "metadata": {
        "id": "7VdVb8nY04t7",
        "colab_type": "code",
        "outputId": "087337ae-4564-4045-b171-97f4ac5be95c",
        "colab": {
          "base_uri": "https://localhost:8080/",
          "height": 121
        }
      },
      "source": [
        "!pip install pyclipper\n",
        "from IPython.core.interactiveshell import InteractiveShell\n",
        "InteractiveShell.ast_node_interactivity = \"all\""
      ],
      "execution_count": 0,
      "outputs": [
        {
          "output_type": "stream",
          "text": [
            "Collecting pyclipper\n",
            "\u001b[?25l  Downloading https://files.pythonhosted.org/packages/e1/40/57a0d54a1c696d58253c88a95677e50ab2b305a15af0ac64b70db4320562/pyclipper-1.1.0.post3-cp36-cp36m-manylinux1_x86_64.whl (131kB)\n",
            "\r\u001b[K     |██▌                             | 10kB 13.9MB/s eta 0:00:01\r\u001b[K     |█████                           | 20kB 3.3MB/s eta 0:00:01\r\u001b[K     |███████▌                        | 30kB 4.7MB/s eta 0:00:01\r\u001b[K     |██████████                      | 40kB 2.8MB/s eta 0:00:01\r\u001b[K     |████████████▍                   | 51kB 3.4MB/s eta 0:00:01\r\u001b[K     |███████████████                 | 61kB 4.0MB/s eta 0:00:01\r\u001b[K     |█████████████████▍              | 71kB 4.6MB/s eta 0:00:01\r\u001b[K     |███████████████████▉            | 81kB 5.1MB/s eta 0:00:01\r\u001b[K     |██████████████████████▍         | 92kB 5.7MB/s eta 0:00:01\r\u001b[K     |████████████████████████▉       | 102kB 4.7MB/s eta 0:00:01\r\u001b[K     |███████████████████████████▍    | 112kB 4.7MB/s eta 0:00:01\r\u001b[K     |█████████████████████████████▉  | 122kB 4.7MB/s eta 0:00:01\r\u001b[K     |████████████████████████████████| 133kB 4.7MB/s \n",
            "\u001b[?25hInstalling collected packages: pyclipper\n",
            "Successfully installed pyclipper-1.1.0.post3\n"
          ],
          "name": "stdout"
        }
      ]
    },
    {
      "cell_type": "code",
      "metadata": {
        "id": "5K_5heiHakQf",
        "colab_type": "code",
        "colab": {}
      },
      "source": [
        "# PSO for maximin=zing plot fit\n",
        "\n",
        "#! / Usr / bin / python\n",
        "# - * - coding: Latin-1 - * -\n",
        "# TP optim: surface maximization\n",
        "# by the PSO algorithm\n",
        "# Peio Loubiere for EISTI\n",
        "# September 2017\n",
        "#use: python surface.corr1.py\n",
        "from scipy import *\n",
        "from math import *\n",
        "import matplotlib.pyplot as plt\n",
        "from matplotlib.path import Path\n",
        "import matplotlib.patches as patches\n",
        "import sys\n",
        "import pyclipper\n",
        "from functools import *\n",
        "import numpy as np\n",
        "import pandas as pd\n",
        "\n",
        "# Visualization of the plot\n",
        "#fig = plt.figure(figsize=(10,10))\n",
        "#canv = fig.add_subplot(1,1,1)\n",
        "#canv.set_xlim(0,500)\n",
        "#canv.set_ylim(0,500)\n",
        "\n",
        "\n",
        "\n",
        "# ***************** Paramètres du problème ******************\n",
        "# Différent types of plots : \n",
        "#polygon = ((10,10),(10,400),(400,400),(400,10)) \n",
        "#polygon = ((10,10),(10,300),(250,300),(350,130),(200,10)) \n",
        "#polygon = ((50,150),(200,50),(350,150),(350,300),(250,300),(200,250),(150,350),(100,250),(100,200))\n",
        "polygon = ((50,50),(50,400),(220,310),(220,170),(330,170),(330,480),(450,480),(450,50))\n",
        "\n",
        "# ***********************************************************\n",
        "\n",
        "# Transforms the polygon into a list for display.\n",
        "def poly2list(polygon):\n",
        "\tpolygonfig = list(polygon)\n",
        "\tpolygonfig.append(polygonfig[0])\n",
        "\treturn polygonfig\n",
        "\n",
        "# Draw Constant polygon \n",
        "polygonfig = poly2list(polygon)\n",
        "\n",
        "# Display visualization\n",
        "def draw(polyfig,rectfig):\n",
        "\tglobal canv, codes\n",
        "\tcanv.clear()\n",
        "\tcanv.set_xlim(0,500)\n",
        "\tcanv.set_ylim(0,500)\n",
        "\t# polygon figure\n",
        "\tcodes = [Path.MOVETO]\n",
        "\tfor i in range(len(polyfig)-2):\n",
        "\t  codes.append(Path.LINETO)   \n",
        "\tcodes.append(Path.CLOSEPOLY)\n",
        "\tpath = Path(polyfig, codes)\n",
        "\tpatch = patches.PathPatch(path, facecolor='orange', lw=2)\n",
        "\tcanv.add_patch(patch)\n",
        "\n",
        "\t# rectangle figure\n",
        "\tcodes = [Path.MOVETO]\n",
        "\tfor i in range(len(rectfig)-2):\n",
        "\t\tcodes.append(Path.LINETO)\n",
        "\tcodes.append(Path.CLOSEPOLY)\n",
        "\tpath = Path(rectfig, codes)\n",
        "\tpatch = patches.PathPatch(path, facecolor='grey', lw=2)\n",
        "\tcanv.add_patch(patch)\n",
        "\n",
        "\t# Title(Area of Rectangle)\n",
        "\tplt.title(\"Max Area of my House: {}\".format(round(area(rectfig[:-1]),2)))\n",
        "\t#plt.savefig('H:\\plot'+str(runs)+'.png')\n",
        "\t#plt.clf()\n",
        "\tplt.pause(0.5)\n",
        "\n",
        "def dispRes(best):\n",
        "\tprint(\"Point = {}\".format(best['pos']))\n",
        "\tprint(\"rectangle coordinate = {}\".format(pos2rect(best['pos'])))\n",
        "\tprint(\"Best Area = {}\".format(best['area']))\t\n",
        "\t\n",
        "def drawStats(Htemps, Hbest):\n",
        "\t# afFILEhage des courbes d'evolution\n",
        "\tfig = plt.figure(2,figsize=(10,10))\n",
        "\t#add_subplot(1,1,1)\n",
        "\tplt.semilogy(Htemps, Hbest)\n",
        "\tplt.title('Evolution of the best distance')\n",
        "\tplt.xlabel('Time')\n",
        "\tplt.ylabel('Area')\n",
        "\n",
        "\t#legend(mains, title='Optimization functions')\n",
        "\t#plt.tight_layout()\n",
        "\t#plt.show()\n",
        "\t#plt.savefig('H:/Desktop/land.png')\n",
        "\t\n",
        "\t\n",
        "# Collect the boundaries of the bounding box around the parcel\n",
        "def getbounds(polygon):\n",
        "\tlpoly = list(polygon) #tansformation into list for use with reduce function\n",
        "\t#return reduce(lambda (xmin,xmax,ymin,ymax),(xe,ye): (min(xe,xmin),max(xe,xmax),min(ye,ymin),max(ye,ymax)),lpoly[1:],(lpoly[0][0],lpoly[0][0],lpoly[0][1],lpoly[0][1]))\n",
        "\treturn reduce(lambda acc,e: (min(e[0],acc[0]),max(e[0],acc[1]),min(e[1],acc[2]),max(e[1],acc[3])),lpoly[1:],(lpoly[0][0],lpoly[0][0],lpoly[0][1],lpoly[0][1]))\n",
        "\n",
        "# Transformation of a solution of the pb (center / corner / angle) in rectangle for clipping\n",
        "# Returns a rectangle (A (x1, y1), B (x2, y2), C (x3, y3), D (x4, y4))\n",
        "def pos2rect(pos):\n",
        "\t# coin : point A\n",
        "\txa, ya = pos[0], pos[1]\n",
        "\t# centre du rectangle : point O\n",
        "\txo, yo = pos[2], pos[3]\n",
        "\t# angle  AÔD\n",
        "\tangle = pos[4]\n",
        "\n",
        "\t# point D : centre for rotation O, at the Angle alpha\n",
        "\talpha = pi * angle / 180 # degre en radian\n",
        "\txd = cos(alpha)*(xa-xo) - sin(alpha)*(ya-yo) + xo \n",
        "\tyd = sin(alpha)*(xa-xo) + cos(alpha)*(ya-yo) + yo\n",
        "\t# point C : symétrique de A, de centre O\n",
        "\txc, yc = 2*xo - xa, 2*yo - ya \n",
        "\t# point B : symétrique de D, de centre O\n",
        "\txb, yb = 2*xo - xd, 2*yo - yd\n",
        "\n",
        "\t# round for clipping\n",
        "\treturn ((round(xa),round(ya)),(round(xb),round(yb)),(round(xc),round(yc)),(round(xd),round(yd)))\n",
        "\n",
        "\t\n",
        "# Distance between 2 points (x1,y1), (x2,y2)\n",
        "def distance(p1,p2):\n",
        "\treturn sqrt((p1[0]-p2[0])**2 + (p1[1]-p2[1])**2)\n",
        "\n",
        "# Area of Rectangle (A (x1, y1), B (x2, y2), C (x3, y3), D (x4, y4))\n",
        "# = distance AB * distance BC\n",
        "def area(pos):\n",
        "\tedge1=(pos[0],pos[1])\n",
        "\tedge2=(pos[1],pos[2])\n",
        "\t#print(pos[0],pos[1],pos[2],pos[3])\n",
        "\t#print(distance(p1[0],p1[1])* distance(p2[0],p2[1]))\n",
        "\treturn round(distance(edge1[0],edge1[1])* distance(edge2[0],edge2[1]),2)\n",
        "\n",
        "\n",
        "# Clipping\n",
        "# Predicate that verifies that the rectangle is in the polygon\n",
        "# Test if\n",
        "# - there is an intersection (! = []) between the figures and\n",
        "# - the two lists are the same size and\n",
        "# - all the points of the rectangle belong to the result of the clipping\n",
        "# If error (~ flat angle), returns false\n",
        "\n",
        "def verifyconstraint(rect, polygon):\n",
        "\ttry:\n",
        "\t\t# Config\n",
        "\t\tpc = pyclipper.Pyclipper()\n",
        "\t\tpc.AddPath(polygon, pyclipper.PT_SUBJECT, True)\n",
        "\t\tpc.AddPath(rect, pyclipper.PT_CLIP, True)\n",
        "\t\t# Clipping\n",
        "\t\tclip = pc.Execute(pyclipper.CT_INTERSECTION, pyclipper.PFT_EVENODD, pyclipper.PFT_EVENODD)\n",
        "\t\t#all(iterable) return True if all elements of the iterable are true (or if the iterable is empty)\t\t\n",
        "\t\treturn (clip!=[]) and (len(clip[0])==len(rect)) and all(list(map(lambda e:list(e) in clip[0], rect)))\n",
        "\texcept pyclipper.ClipperException:\n",
        "\t\t# print rect\n",
        "\t\treturn False\n",
        "\n",
        "\n",
        "# Create an individual (center / corner / angle) FEASABLE\n",
        "# an individual is described by your metaheuristic containing at least:\n",
        "# - pos: solution (center / corner / angle) list of variables\n",
        "# - area: area of ​​the rectangle\n",
        "# - ...: other components of the individual\n",
        "\n",
        "def initUn(polygon):\n",
        "\tglobal xmin,xmax,ymin,ymax\n",
        "\t# xmin = 0\n",
        "\t# xmax = 500\n",
        "\t# ymin = 0\n",
        "\t# ymax = 500\n",
        "\tanglemin = 1.00\n",
        "\tanglemax = 90.00\n",
        "\tboolOK = False\n",
        "\tpos = []\n",
        "\twhile not boolOK: # as long as it is not feasible\n",
        "\t\txo=random.uniform(xmin,xmax)\n",
        "\t\tyo=random.uniform(ymin,ymax)\n",
        "\t\t\n",
        "\t\txa=xo+pow(-1,random.randint(0,1))*random.uniform(10,min(xo-xmin,xmax-xo))\n",
        "\t\tya=yo+pow(-1,random.randint(0,1))*random.uniform(10,min(yo-ymin,ymax-yo))\n",
        "\t\tangle = random.uniform(anglemin,anglemax)\n",
        "\n",
        "\t\tpos = [round(xa),round(ya),round(xo),round(yo),angle]\n",
        "\t\trect = pos2rect(pos)\n",
        "\t\t#print(rect)\n",
        "\t\t# calcul du clipping\n",
        "\t\tboolOK = verifyconstraint(rect,polygon)\n",
        "\tev = round(area(pos2rect(pos)),2)\n",
        "\treturn {'vit':[0]*dim, 'pos':pos, 'area':ev ,'bestpos':pos, 'bestarea':ev, 'bestvois':[]}\n",
        "\n",
        "# Initialization of the population\n",
        "def initPop(nb,polygon):\n",
        "\treturn [initUn(polygon) for i in range(nb)]\n",
        "\n",
        "# Returns the best particle between two: depends on the metaheuristic\n",
        "def bestPartic(p1,p2):\n",
        "\t#print('comparison')\n",
        "\t#print('------------------------')\n",
        "\t#print(p1)\n",
        "\t#print('------------------------')\n",
        "\t#breakpoint()\n",
        "\tif (p1[\"area\"] < p2[\"area\"]):\n",
        "\t\treturn p2 \n",
        "\telse:\n",
        "\t\treturn p1\n",
        "\t\n",
        "# Return a copy of the best particle of the population\n",
        "def getBest(population):\n",
        "\t#print(dict(reduce(lambda acc, e: bestPartic(acc,e),population[1:],population[0])))\n",
        "\treturn dict(reduce(lambda acc, e: bestPartic(acc,e),population[1:],population[0]))\n",
        "\n",
        "\n",
        "#\"\"\"\n",
        "#PSO ALGORITH IMPLEMENTATION\n",
        "#\"\"\"\n",
        "\t\t\n",
        "\n",
        "# Initialization of the population (swarm)\n",
        "def initSwarm(nb,polygon):\n",
        "\treturn [initUn(polygon) for i in range(nb)]\n",
        "\n",
        "\n",
        "# # Return the particle with the best fitness\n",
        "# def maxParticle(p1, p2):\n",
        "\t# if (p1[\"area\"] < p2[\"area\"]):\n",
        "\t\t# return p1\n",
        "\t# else:\n",
        "\t\t# return p2\n",
        "\n",
        "# Calculate the velocity and move a paticule\n",
        "def move(particle,dim):\n",
        "\tglobal c1,c2,psi,cmax\n",
        "\n",
        "\tnv = dict(particle)\n",
        "\t#everytime a new dictionary is created for the single particle of swarm\n",
        "\t#print('--------------------******************-----------')\n",
        "\t#print(nv)\n",
        "\t#break;\n",
        "\t#velocity for 5 parameters\n",
        "\tvelocity = [0]*dim\n",
        "\tfor i in range(dim):\n",
        "\t\tvelocity[i] = (particle[\"vit\"][i]*psi + \\\n",
        "\t\tcmax*random.uniform()*(particle[\"bestpos\"][i] - particle[\"pos\"][i]) + \\\n",
        "\t\tcmax*random.uniform()*(particle[\"bestvois\"][i] - particle[\"pos\"][i]))\n",
        "\tposition = [0]*dim\n",
        "\tfor i in range(dim):\n",
        "\t\tposition[i] = particle[\"pos\"][i] + velocity[i]\n",
        "\t\t#if i==4:\n",
        "\t\t\t#position[i] = round(particle[\"pos\"][i] + velocity[i])\n",
        "\t# New position might contradict my dimension constraint\n",
        "\t# i need to verify that cordinates and angle give me a rectangle \n",
        "\t# which lies in the polgon plot of land\n",
        "\t#print(\"the angle is \")\n",
        "\t#print(position[4])\n",
        "\tif (position[4] <1.00 or position[4]>90.00):\n",
        "\t\tposition[4] = particle[\"pos\"][4]\n",
        "\t\t#move(particle,dim)\n",
        "\tif (verifyconstraint(pos2rect(position),polygon) == False): \n",
        "\t\tposition = particle[\"pos\"]\n",
        "\t#breakpoint()\n",
        "\tnv['vit'] = velocity\n",
        "\tnv['pos'] = position\n",
        "\tnv['area'] = round(area(pos2rect(position)),2)\n",
        "\treturn nv\t\t\n",
        "\t\t\n",
        "# Update information for the particles of the population (swarm)\n",
        "def update(particle,bestParticle):\n",
        "\tnv = dict(particle)\n",
        "\t#print('--******************************************---')\n",
        "\t#print(particle[\"area\"])\n",
        "\t#print(particle[\"bestarea\"])\n",
        "\t#print(nv)\n",
        "\t#print('--******************************************---')\n",
        "\t#breakpoint()\n",
        "\tif(particle[\"area\"] > particle[\"bestarea\"]):\n",
        "\t\tnv['bestpos'] = particle[\"pos\"][:]\n",
        "\t\tnv['bestarea'] = particle[\"area\"]\n",
        "\tnv['bestvois'] = bestParticle[\"bestpos\"][:]\n",
        "\t#print(nv)\n",
        "\t#breakpoint()\n",
        "\treturn nv\t\t\n",
        "\t\t\n",
        "\t\t\n",
        "\t\t\n",
        "\t\t\n",
        "\n",
        "\n",
        "# ************ Parameters of the metaheuristic *** PSO = 10000 DE = 1500 ********* NB indiv 20 *\n",
        "Nb_cycles = 10000\n",
        "Nb_Indiv = 20\n",
        "\n",
        "# ***********************************************************\n",
        "global DIM,dim\n",
        "DIM = 5\n",
        "dim = 5\n",
        "# usual params\n",
        "psi, cmax = (0.4, 1.41)\n",
        "\n",
        "\n",
        "# xmin,xmax,ymin,ymax = getbounds(polygon)\n",
        "# #print(xmin,xmax,ymin,ymax)\n",
        "\n",
        "# # initialisation of the population (of the agent if simulated annealing) and the best individual.\n",
        "# swarm = initPop(Nb_Indiv,polygon)\n",
        "# print('initial swarm')\n",
        "# #print(swarm)\n",
        "# #breakpoint()\n",
        "# best = getBest(swarm)\n",
        "# #print(best)\n",
        "# print('------best out of swarm--------')\n",
        "# best_plot = best\n",
        "# print(best_plot)\n",
        "# #breakpoint()\n",
        "# # -------- Code is working fine till here --------------\n",
        "\n",
        "\n",
        "final = pd.DataFrame()\n",
        "areali = []\n",
        "coordli = []\n",
        "\n",
        "Nb_runs = 30\n",
        "best_areas = []\n",
        "best_rectangles = []\n",
        "for runs in range(Nb_runs):\n",
        "# --------------------------------------------------\n",
        "\tHtemps = []       # temps\n",
        "\tHbest = []\n",
        "\txmin,xmax,ymin,ymax = getbounds(polygon)\n",
        "\t#print(xmin,xmax,ymin,ymax)\n",
        "\n",
        "\t# initialisation of the population (of the agent if simulated annealing) and the best individual.\n",
        "\tswarm = initPop(Nb_Indiv,polygon)\n",
        "\t#print('initial swarm')\n",
        "\t#print(swarm)\n",
        "\t#breakpoint()\n",
        "\tbest = getBest(swarm)\n",
        "\t#print(best)\n",
        "\t#print('------best out of swarm--------')\n",
        "\tbest_plot = best\n",
        "\t#print(best_plot)\n",
        "#breakpoint()\n",
        "# -------- Code is working fine till here --------------\n",
        "#---------------------------------------------------\n",
        "\n",
        "\t#print(\"Run no. {}\".format(runs))\n",
        "\tfor i in range(Nb_cycles):\n",
        "\t\t#Update informations\n",
        "\t\t#print(\"  Current Cycle is  {}\".format(i))\n",
        "\t\tswarm = [update(e,best_plot) for e in swarm]\n",
        "\t\t#print('iterative swarm')\n",
        "\t\t#print(swarm)\n",
        "\t\t#breakpoint()\n",
        "\t\t# velocity calculations and displacement\n",
        "\t\tswarm = [move(e,DIM) for e in swarm]\n",
        "\t\t# Update of the best solution\n",
        "\t\t#print('printing all the swarms')\n",
        "\t\t#print(swarm)\n",
        "\t\tbest_plot = getBest(swarm)\n",
        "\t\t#print(\"---------------best_plot VS best--------------------\")\n",
        "\t\t#print(\"{}  V/S {}\".format(best_plot['area']).format(best['area']))\n",
        "\t\t#print(best)\n",
        "\t\t#print('printing the best plot')\n",
        "\t\t#print(best_plot)\n",
        "\n",
        "\n",
        "\t\tif (best_plot[\"area\"] > best[\"area\"]):\n",
        "\t\t\tbest = best_plot\n",
        "\t\t\t# draw(best['pos'], best['fit'])\n",
        "\t\t#print(\"---------------And the best is --------------------\")\n",
        "\t\t#print(best['area'])\n",
        "\t\tcoordli.append(best['pos'])\n",
        "\t\tareali.append(best['area'])\n",
        "\t\t#breakpoint()\n",
        "\t\t# historization of data\n",
        "\t\tif i % 10 == 0:\n",
        "\t\t\tHtemps.append(i)\n",
        "\t\t\tHbest.append(best['area'])\n",
        "\n",
        "\t\t# # swarm display\n",
        "\t\t# if i % 10 == 0:\n",
        "\t\t\t# draw(swarm,i)\n",
        "\n",
        "\t# END, displaying results\n",
        "\tHtemps.append(i)\n",
        "\tHbest.append(best['area'])\n",
        "\n",
        "\t#dispRes(best)\n",
        " \n",
        "\t#print(pos2rect(best[\"pos\"]))\n",
        "\t#print(area(pos2rect(best[\"pos\"])))\n",
        "\tbest_areas.append(best['area'])\n",
        "\tbest_rectangles.append(pos2rect(best['pos']))\n",
        "\t#draw(polygonfig, poly2list(pos2rect(best[\"pos\"])))\n",
        "\t#plt.show()\n",
        "\t#fig.clf()\n",
        "\t#plt.close()\n",
        "\t#displaying result on the console\n",
        "\t#drawStats(Htemps, Hbest)\t\n",
        "\t#\"\"\"\n",
        "\t#END OF PSO ALGORITHM\n",
        "\t#\"\"\"\n",
        "\t#for i in range(Nb_cycles):\n",
        "\t#\tprint(\"the best area at the {} iteration with the coordinates {} is  {}.m^2 \" .format(i,coordli[i],areali[i]))\n",
        "\t\n",
        "\n",
        "final['Best Coordinate']= best_rectangles\n",
        "final['Best Area']= best_areas"
      ],
      "execution_count": 0,
      "outputs": []
    },
    {
      "cell_type": "code",
      "metadata": {
        "id": "M2laUai0gQCe",
        "colab_type": "code",
        "outputId": "dcbfccf3-9b64-41d0-d19b-7a1f4162aad8",
        "colab": {
          "base_uri": "https://localhost:8080/",
          "height": 935
        }
      },
      "source": [
        "final"
      ],
      "execution_count": 0,
      "outputs": [
        {
          "output_type": "execute_result",
          "data": {
            "text/html": [
              "<div>\n",
              "<style scoped>\n",
              "    .dataframe tbody tr th:only-of-type {\n",
              "        vertical-align: middle;\n",
              "    }\n",
              "\n",
              "    .dataframe tbody tr th {\n",
              "        vertical-align: top;\n",
              "    }\n",
              "\n",
              "    .dataframe thead th {\n",
              "        text-align: right;\n",
              "    }\n",
              "</style>\n",
              "<table border=\"1\" class=\"dataframe\">\n",
              "  <thead>\n",
              "    <tr style=\"text-align: right;\">\n",
              "      <th></th>\n",
              "      <th>Best Coordinate</th>\n",
              "      <th>Best Area</th>\n",
              "    </tr>\n",
              "  </thead>\n",
              "  <tbody>\n",
              "    <tr>\n",
              "      <th>0</th>\n",
              "      <td>((450, 480), (450, 50), (330, 51), (331, 480))</td>\n",
              "      <td>51601.79</td>\n",
              "    </tr>\n",
              "    <tr>\n",
              "      <th>1</th>\n",
              "      <td>((449, 471), (450, 50), (330, 50), (330, 470))</td>\n",
              "      <td>50520.14</td>\n",
              "    </tr>\n",
              "    <tr>\n",
              "      <th>2</th>\n",
              "      <td>((219, 310), (221, 50), (51, 50), (50, 309))</td>\n",
              "      <td>44201.31</td>\n",
              "    </tr>\n",
              "    <tr>\n",
              "      <th>3</th>\n",
              "      <td>((220, 261), (220, 50), (50, 51), (50, 261))</td>\n",
              "      <td>35870.62</td>\n",
              "    </tr>\n",
              "    <tr>\n",
              "      <th>4</th>\n",
              "      <td>((179, 332), (181, 50), (51, 50), (50, 332))</td>\n",
              "      <td>36660.92</td>\n",
              "    </tr>\n",
              "    <tr>\n",
              "      <th>5</th>\n",
              "      <td>((449, 480), (450, 50), (330, 50), (330, 480))</td>\n",
              "      <td>51600.14</td>\n",
              "    </tr>\n",
              "    <tr>\n",
              "      <th>6</th>\n",
              "      <td>((219, 307), (221, 50), (51, 50), (50, 306))</td>\n",
              "      <td>43691.32</td>\n",
              "    </tr>\n",
              "    <tr>\n",
              "      <th>7</th>\n",
              "      <td>((450, 403), (450, 50), (330, 51), (330, 403))</td>\n",
              "      <td>42361.47</td>\n",
              "    </tr>\n",
              "    <tr>\n",
              "      <th>8</th>\n",
              "      <td>((449, 480), (450, 50), (330, 50), (330, 480))</td>\n",
              "      <td>51600.14</td>\n",
              "    </tr>\n",
              "    <tr>\n",
              "      <th>9</th>\n",
              "      <td>((449, 439), (450, 50), (330, 50), (330, 438))</td>\n",
              "      <td>46680.15</td>\n",
              "    </tr>\n",
              "    <tr>\n",
              "      <th>10</th>\n",
              "      <td>((449, 480), (450, 50), (330, 50), (330, 480))</td>\n",
              "      <td>51600.14</td>\n",
              "    </tr>\n",
              "    <tr>\n",
              "      <th>11</th>\n",
              "      <td>((450, 480), (449, 50), (329, 51), (331, 480))</td>\n",
              "      <td>51601.93</td>\n",
              "    </tr>\n",
              "    <tr>\n",
              "      <th>12</th>\n",
              "      <td>((450, 480), (450, 50), (330, 51), (330, 480))</td>\n",
              "      <td>51601.79</td>\n",
              "    </tr>\n",
              "    <tr>\n",
              "      <th>13</th>\n",
              "      <td>((450, 480), (449, 50), (329, 51), (331, 480))</td>\n",
              "      <td>51601.93</td>\n",
              "    </tr>\n",
              "    <tr>\n",
              "      <th>14</th>\n",
              "      <td>((450, 480), (450, 50), (330, 51), (331, 480))</td>\n",
              "      <td>51601.79</td>\n",
              "    </tr>\n",
              "    <tr>\n",
              "      <th>15</th>\n",
              "      <td>((203, 319), (205, 50), (51, 50), (50, 319))</td>\n",
              "      <td>41427.14</td>\n",
              "    </tr>\n",
              "    <tr>\n",
              "      <th>16</th>\n",
              "      <td>((450, 480), (449, 50), (329, 51), (331, 480))</td>\n",
              "      <td>51601.93</td>\n",
              "    </tr>\n",
              "    <tr>\n",
              "      <th>17</th>\n",
              "      <td>((213, 314), (215, 50), (51, 50), (50, 314))</td>\n",
              "      <td>43297.24</td>\n",
              "    </tr>\n",
              "    <tr>\n",
              "      <th>18</th>\n",
              "      <td>((196, 323), (198, 50), (51, 50), (50, 323))</td>\n",
              "      <td>40132.08</td>\n",
              "    </tr>\n",
              "    <tr>\n",
              "      <th>19</th>\n",
              "      <td>((449, 480), (450, 50), (330, 50), (330, 480))</td>\n",
              "      <td>51600.14</td>\n",
              "    </tr>\n",
              "    <tr>\n",
              "      <th>20</th>\n",
              "      <td>((213, 314), (214, 50), (50, 50), (50, 314))</td>\n",
              "      <td>43296.31</td>\n",
              "    </tr>\n",
              "    <tr>\n",
              "      <th>21</th>\n",
              "      <td>((450, 448), (449, 50), (329, 51), (331, 448))</td>\n",
              "      <td>47761.81</td>\n",
              "    </tr>\n",
              "    <tr>\n",
              "      <th>22</th>\n",
              "      <td>((211, 315), (212, 50), (50, 50), (50, 315))</td>\n",
              "      <td>42930.31</td>\n",
              "    </tr>\n",
              "    <tr>\n",
              "      <th>23</th>\n",
              "      <td>((450, 480), (450, 50), (330, 51), (330, 480))</td>\n",
              "      <td>51601.79</td>\n",
              "    </tr>\n",
              "    <tr>\n",
              "      <th>24</th>\n",
              "      <td>((450, 480), (449, 50), (329, 51), (331, 480))</td>\n",
              "      <td>51601.93</td>\n",
              "    </tr>\n",
              "    <tr>\n",
              "      <th>25</th>\n",
              "      <td>((218, 311), (219, 50), (50, 50), (50, 311))</td>\n",
              "      <td>44109.32</td>\n",
              "    </tr>\n",
              "    <tr>\n",
              "      <th>26</th>\n",
              "      <td>((449, 480), (450, 50), (330, 50), (330, 480))</td>\n",
              "      <td>51600.14</td>\n",
              "    </tr>\n",
              "    <tr>\n",
              "      <th>27</th>\n",
              "      <td>((219, 311), (221, 50), (51, 50), (50, 311))</td>\n",
              "      <td>44371.30</td>\n",
              "    </tr>\n",
              "    <tr>\n",
              "      <th>28</th>\n",
              "      <td>((209, 316), (211, 50), (51, 50), (50, 315))</td>\n",
              "      <td>42561.20</td>\n",
              "    </tr>\n",
              "    <tr>\n",
              "      <th>29</th>\n",
              "      <td>((162, 341), (248, 87), (135, 50), (50, 304))</td>\n",
              "      <td>31885.61</td>\n",
              "    </tr>\n",
              "  </tbody>\n",
              "</table>\n",
              "</div>"
            ],
            "text/plain": [
              "                                   Best Coordinate  Best Area\n",
              "0   ((450, 480), (450, 50), (330, 51), (331, 480))   51601.79\n",
              "1   ((449, 471), (450, 50), (330, 50), (330, 470))   50520.14\n",
              "2     ((219, 310), (221, 50), (51, 50), (50, 309))   44201.31\n",
              "3     ((220, 261), (220, 50), (50, 51), (50, 261))   35870.62\n",
              "4     ((179, 332), (181, 50), (51, 50), (50, 332))   36660.92\n",
              "5   ((449, 480), (450, 50), (330, 50), (330, 480))   51600.14\n",
              "6     ((219, 307), (221, 50), (51, 50), (50, 306))   43691.32\n",
              "7   ((450, 403), (450, 50), (330, 51), (330, 403))   42361.47\n",
              "8   ((449, 480), (450, 50), (330, 50), (330, 480))   51600.14\n",
              "9   ((449, 439), (450, 50), (330, 50), (330, 438))   46680.15\n",
              "10  ((449, 480), (450, 50), (330, 50), (330, 480))   51600.14\n",
              "11  ((450, 480), (449, 50), (329, 51), (331, 480))   51601.93\n",
              "12  ((450, 480), (450, 50), (330, 51), (330, 480))   51601.79\n",
              "13  ((450, 480), (449, 50), (329, 51), (331, 480))   51601.93\n",
              "14  ((450, 480), (450, 50), (330, 51), (331, 480))   51601.79\n",
              "15    ((203, 319), (205, 50), (51, 50), (50, 319))   41427.14\n",
              "16  ((450, 480), (449, 50), (329, 51), (331, 480))   51601.93\n",
              "17    ((213, 314), (215, 50), (51, 50), (50, 314))   43297.24\n",
              "18    ((196, 323), (198, 50), (51, 50), (50, 323))   40132.08\n",
              "19  ((449, 480), (450, 50), (330, 50), (330, 480))   51600.14\n",
              "20    ((213, 314), (214, 50), (50, 50), (50, 314))   43296.31\n",
              "21  ((450, 448), (449, 50), (329, 51), (331, 448))   47761.81\n",
              "22    ((211, 315), (212, 50), (50, 50), (50, 315))   42930.31\n",
              "23  ((450, 480), (450, 50), (330, 51), (330, 480))   51601.79\n",
              "24  ((450, 480), (449, 50), (329, 51), (331, 480))   51601.93\n",
              "25    ((218, 311), (219, 50), (50, 50), (50, 311))   44109.32\n",
              "26  ((449, 480), (450, 50), (330, 50), (330, 480))   51600.14\n",
              "27    ((219, 311), (221, 50), (51, 50), (50, 311))   44371.30\n",
              "28    ((209, 316), (211, 50), (51, 50), (50, 315))   42561.20\n",
              "29   ((162, 341), (248, 87), (135, 50), (50, 304))   31885.61"
            ]
          },
          "metadata": {
            "tags": []
          },
          "execution_count": 51
        }
      ]
    },
    {
      "cell_type": "code",
      "metadata": {
        "id": "h4Q9t9bzgOtP",
        "colab_type": "code",
        "outputId": "66b5e1b7-11aa-4492-a7fd-22c1741cb4f1",
        "colab": {
          "base_uri": "https://localhost:8080/",
          "height": 70
        }
      },
      "source": [
        "final.to_excel(\"H:\\Desktop\\Area1.xlsx\", sheet_name='Sheet_1', na_rep='', float_format=None, columns=['Best Retangle','Best Area'], header=True, index=True, index_label = None)"
      ],
      "execution_count": 0,
      "outputs": [
        {
          "output_type": "stream",
          "text": [
            "/usr/local/lib/python3.6/dist-packages/pandas/io/formats/excel.py:400: FutureWarning: Not all names specified in 'columns' are found; this will raise a KeyError in the future\n",
            "  FutureWarning,\n"
          ],
          "name": "stderr"
        }
      ]
    },
    {
      "cell_type": "code",
      "metadata": {
        "id": "eb5HL3lMkRtR",
        "colab_type": "code",
        "outputId": "088dc23f-016e-4e10-c34f-6234c286ac05",
        "colab": {
          "base_uri": "https://localhost:8080/",
          "height": 166
        }
      },
      "source": [
        "top =  final[final['Best Area'] == (max(final['Best Area']))]\n",
        "tops = top['Best Coordinate'].iloc[0]\n",
        "topa = top['Best Area'].iloc[0]\n",
        "top"
      ],
      "execution_count": 0,
      "outputs": [
        {
          "output_type": "execute_result",
          "data": {
            "text/html": [
              "<div>\n",
              "<style scoped>\n",
              "    .dataframe tbody tr th:only-of-type {\n",
              "        vertical-align: middle;\n",
              "    }\n",
              "\n",
              "    .dataframe tbody tr th {\n",
              "        vertical-align: top;\n",
              "    }\n",
              "\n",
              "    .dataframe thead th {\n",
              "        text-align: right;\n",
              "    }\n",
              "</style>\n",
              "<table border=\"1\" class=\"dataframe\">\n",
              "  <thead>\n",
              "    <tr style=\"text-align: right;\">\n",
              "      <th></th>\n",
              "      <th>Best Coordinate</th>\n",
              "      <th>Best Area</th>\n",
              "    </tr>\n",
              "  </thead>\n",
              "  <tbody>\n",
              "    <tr>\n",
              "      <th>11</th>\n",
              "      <td>((450, 480), (449, 50), (329, 51), (331, 480))</td>\n",
              "      <td>51601.93</td>\n",
              "    </tr>\n",
              "    <tr>\n",
              "      <th>13</th>\n",
              "      <td>((450, 480), (449, 50), (329, 51), (331, 480))</td>\n",
              "      <td>51601.93</td>\n",
              "    </tr>\n",
              "    <tr>\n",
              "      <th>16</th>\n",
              "      <td>((450, 480), (449, 50), (329, 51), (331, 480))</td>\n",
              "      <td>51601.93</td>\n",
              "    </tr>\n",
              "    <tr>\n",
              "      <th>24</th>\n",
              "      <td>((450, 480), (449, 50), (329, 51), (331, 480))</td>\n",
              "      <td>51601.93</td>\n",
              "    </tr>\n",
              "  </tbody>\n",
              "</table>\n",
              "</div>"
            ],
            "text/plain": [
              "                                   Best Coordinate  Best Area\n",
              "11  ((450, 480), (449, 50), (329, 51), (331, 480))   51601.93\n",
              "13  ((450, 480), (449, 50), (329, 51), (331, 480))   51601.93\n",
              "16  ((450, 480), (449, 50), (329, 51), (331, 480))   51601.93\n",
              "24  ((450, 480), (449, 50), (329, 51), (331, 480))   51601.93"
            ]
          },
          "metadata": {
            "tags": []
          },
          "execution_count": 42
        }
      ]
    },
    {
      "cell_type": "code",
      "metadata": {
        "id": "AXTsoV6Zmk2t",
        "colab_type": "code",
        "outputId": "a66418f2-481d-4a60-a9ef-dc68f1c42406",
        "colab": {
          "base_uri": "https://localhost:8080/",
          "height": 624
        }
      },
      "source": [
        "# Visualization Best plot\n",
        "fig = plt.figure(figsize=(10,10))\n",
        "canv = fig.add_subplot(1,1,1)\n",
        "canv.set_xlim(0,500)\n",
        "canv.set_ylim(0,500)\n",
        "draw(polygonfig, poly2list(top['Best Coordinate'].iloc[0]))"
      ],
      "execution_count": 0,
      "outputs": [
        {
          "output_type": "execute_result",
          "data": {
            "text/plain": [
              "(0, 500)"
            ]
          },
          "metadata": {
            "tags": []
          },
          "execution_count": 43
        },
        {
          "output_type": "execute_result",
          "data": {
            "text/plain": [
              "(0, 500)"
            ]
          },
          "metadata": {
            "tags": []
          },
          "execution_count": 43
        },
        {
          "output_type": "display_data",
          "data": {
            "image/png": "[encoded data removed]",
            "text/plain": [
              "<Figure size 720x720 with 1 Axes>"
            ]
          },
          "metadata": {
            "tags": []
          }
        }
      ]
    },
    {
      "cell_type": "code",
      "metadata": {
        "id": "MOouM8o8XM9r",
        "colab_type": "code",
        "outputId": "c673e541-4e0f-4acc-f4dc-55e235a9f736",
        "colab": {
          "base_uri": "https://localhost:8080/",
          "height": 925
        }
      },
      "source": [
        "plt.figure(figsize=(15,5))\n",
        "plt.xlim(0,32)\n",
        "plt.xticks(np.arange(1,32,1))\n",
        "plt.title('The Best Area for every Algorithm run')\n",
        "plt.xlabel('Runs of Algorithm')\n",
        "plt.ylabel('Area')\n",
        "plt.scatter(linspace(1,31,num=30), final['Best Area'])"
      ],
      "execution_count": 0,
      "outputs": [
        {
          "output_type": "execute_result",
          "data": {
            "text/plain": [
              "<Figure size 1080x360 with 0 Axes>"
            ]
          },
          "metadata": {
            "tags": []
          },
          "execution_count": 44
        },
        {
          "output_type": "execute_result",
          "data": {
            "text/plain": [
              "(0, 32)"
            ]
          },
          "metadata": {
            "tags": []
          },
          "execution_count": 44
        },
        {
          "output_type": "execute_result",
          "data": {
            "text/plain": [
              "([<matplotlib.axis.XTick at 0x7ff812ce34e0>,\n",
              "  <matplotlib.axis.XTick at 0x7ff812c5b5c0>,\n",
              "  <matplotlib.axis.XTick at 0x7ff812c5bcf8>,\n",
              "  <matplotlib.axis.XTick at 0x7ff812c8f390>,\n",
              "  <matplotlib.axis.XTick at 0x7ff812c8f860>,\n",
              "  <matplotlib.axis.XTick at 0x7ff812c8fd30>,\n",
              "  <matplotlib.axis.XTick at 0x7ff812c8e240>,\n",
              "  <matplotlib.axis.XTick at 0x7ff812c8e710>,\n",
              "  <matplotlib.axis.XTick at 0x7ff812c8f6d8>,\n",
              "  <matplotlib.axis.XTick at 0x7ff812c8e8d0>,\n",
              "  <matplotlib.axis.XTick at 0x7ff812c77198>,\n",
              "  <matplotlib.axis.XTick at 0x7ff812c775f8>,\n",
              "  <matplotlib.axis.XTick at 0x7ff812c77d30>,\n",
              "  <matplotlib.axis.XTick at 0x7ff812bb01d0>,\n",
              "  <matplotlib.axis.XTick at 0x7ff812bb0748>,\n",
              "  <matplotlib.axis.XTick at 0x7ff812bb0cc0>,\n",
              "  <matplotlib.axis.XTick at 0x7ff812bb6278>,\n",
              "  <matplotlib.axis.XTick at 0x7ff812bb67f0>,\n",
              "  <matplotlib.axis.XTick at 0x7ff812bb0828>,\n",
              "  <matplotlib.axis.XTick at 0x7ff812c8eef0>,\n",
              "  <matplotlib.axis.XTick at 0x7ff812bb6c88>,\n",
              "  <matplotlib.axis.XTick at 0x7ff812bbf240>,\n",
              "  <matplotlib.axis.XTick at 0x7ff812bbf7b8>,\n",
              "  <matplotlib.axis.XTick at 0x7ff812bbfd30>,\n",
              "  <matplotlib.axis.XTick at 0x7ff812bc62e8>,\n",
              "  <matplotlib.axis.XTick at 0x7ff812bc6860>,\n",
              "  <matplotlib.axis.XTick at 0x7ff812bc6dd8>,\n",
              "  <matplotlib.axis.XTick at 0x7ff812bc66d8>,\n",
              "  <matplotlib.axis.XTick at 0x7ff812bbf710>,\n",
              "  <matplotlib.axis.XTick at 0x7ff812bcd3c8>,\n",
              "  <matplotlib.axis.XTick at 0x7ff812bcd898>],\n",
              " <a list of 31 Text xticklabel objects>)"
            ]
          },
          "metadata": {
            "tags": []
          },
          "execution_count": 44
        },
        {
          "output_type": "execute_result",
          "data": {
            "text/plain": [
              "Text(0.5, 1.0, 'The Best Area for every Algorithm run')"
            ]
          },
          "metadata": {
            "tags": []
          },
          "execution_count": 44
        },
        {
          "output_type": "execute_result",
          "data": {
            "text/plain": [
              "Text(0.5, 0, 'Runs of Algorithm')"
            ]
          },
          "metadata": {
            "tags": []
          },
          "execution_count": 44
        },
        {
          "output_type": "execute_result",
          "data": {
            "text/plain": [
              "Text(0, 0.5, 'Area')"
            ]
          },
          "metadata": {
            "tags": []
          },
          "execution_count": 44
        },
        {
          "output_type": "execute_result",
          "data": {
            "text/plain": [
              "<matplotlib.collections.PathCollection at 0x7ff812bd4400>"
            ]
          },
          "metadata": {
            "tags": []
          },
          "execution_count": 44
        },
        {
          "output_type": "display_data",
          "data": {
            "image/png": "[encoded data removed]",
            "text/plain": [
              "<Figure size 1080x360 with 1 Axes>"
            ]
          },
          "metadata": {
            "tags": []
          }
        }
      ]
    },
    {
      "cell_type": "code",
      "metadata": {
        "id": "2jZfVx5fbEZB",
        "colab_type": "code",
        "colab": {}
      },
      "source": [
        "Nb_Runs = np.arange(1, 31, 1)\n",
        "#xi = list(range(len(Nb_Runs)))\n",
        "maxi = area(polygon)"
      ],
      "execution_count": 0,
      "outputs": []
    },
    {
      "cell_type": "code",
      "metadata": {
        "id": "EKhw0k8qY3UH",
        "colab_type": "code",
        "colab": {}
      },
      "source": [
        ""
      ],
      "execution_count": 0,
      "outputs": []
    },
    {
      "cell_type": "code",
      "metadata": {
        "id": "NqDS3geaaFaQ",
        "colab_type": "code",
        "outputId": "e562b00d-c33a-4716-bbc2-28948024531f",
        "colab": {
          "base_uri": "https://localhost:8080/",
          "height": 67
        }
      },
      "source": [
        "from statistics import *\n",
        "print('Best of Best')\n",
        "print('Mean is : {}'.format(round(mean(best_areas),2)))\n",
        "print('Standard deviation : {} '.format(round(stdev(best_areas),2)))"
      ],
      "execution_count": 0,
      "outputs": [
        {
          "output_type": "stream",
          "text": [
            "Best of Best\n",
            "Mean is : 46419.13\n",
            "Standard deviation : 5677.72 \n"
          ],
          "name": "stdout"
        }
      ]
    },
    {
      "cell_type": "code",
      "metadata": {
        "id": "RKJjDyMdeD1n",
        "colab_type": "code",
        "outputId": "eae6b794-4db3-460d-91fd-85275415b275",
        "colab": {
          "base_uri": "https://localhost:8080/",
          "height": 54
        }
      },
      "source": [
        "accuracy = [round(((e*100)/topa),1) for e in best_areas]\n",
        "print(accuracy)"
      ],
      "execution_count": 0,
      "outputs": [
        {
          "output_type": "stream",
          "text": [
            "[100.0, 97.9, 85.7, 69.5, 71.0, 100.0, 84.7, 82.1, 100.0, 90.5, 100.0, 100.0, 100.0, 100.0, 100.0, 80.3, 100.0, 83.9, 77.8, 100.0, 83.9, 92.6, 83.2, 100.0, 100.0, 85.5, 100.0, 86.0, 82.5, 61.8]\n"
          ],
          "name": "stdout"
        }
      ]
    },
    {
      "cell_type": "code",
      "metadata": {
        "id": "bggVwfOiaJkZ",
        "colab_type": "code",
        "outputId": "fcce9797-c817-4109-c969-79eefea9aa6c",
        "colab": {
          "base_uri": "https://localhost:8080/",
          "height": 908
        }
      },
      "source": [
        "plt.figure(figsize=(15,5))\n",
        "plt.xlim(0,31)\n",
        "plt.xticks(np.arange(min(Nb_Runs), max(Nb_Runs)+1, 1.0))\n",
        "plt.title('The Best Area for every Algorithm run')\n",
        "plt.xlabel('Runs of Algorithm')\n",
        "plt.ylabel('Accuracy of algorithm')\n",
        "plt.scatter(Nb_Runs,accuracy)\n",
        "plt.show()"
      ],
      "execution_count": 0,
      "outputs": [
        {
          "output_type": "execute_result",
          "data": {
            "text/plain": [
              "<Figure size 1080x360 with 0 Axes>"
            ]
          },
          "metadata": {
            "tags": []
          },
          "execution_count": 48
        },
        {
          "output_type": "execute_result",
          "data": {
            "text/plain": [
              "(0, 31)"
            ]
          },
          "metadata": {
            "tags": []
          },
          "execution_count": 48
        },
        {
          "output_type": "execute_result",
          "data": {
            "text/plain": [
              "([<matplotlib.axis.XTick at 0x7ff812bec048>,\n",
              "  <matplotlib.axis.XTick at 0x7ff812bec6a0>,\n",
              "  <matplotlib.axis.XTick at 0x7ff812bde048>,\n",
              "  <matplotlib.axis.XTick at 0x7ff812b430b8>,\n",
              "  <matplotlib.axis.XTick at 0x7ff812b43518>,\n",
              "  <matplotlib.axis.XTick at 0x7ff812b43a58>,\n",
              "  <matplotlib.axis.XTick at 0x7ff812b43a20>,\n",
              "  <matplotlib.axis.XTick at 0x7ff812b4a198>,\n",
              "  <matplotlib.axis.XTick at 0x7ff812b4a710>,\n",
              "  <matplotlib.axis.XTick at 0x7ff812b4ac88>,\n",
              "  <matplotlib.axis.XTick at 0x7ff812b51240>,\n",
              "  <matplotlib.axis.XTick at 0x7ff812b517b8>,\n",
              "  <matplotlib.axis.XTick at 0x7ff812b51d30>,\n",
              "  <matplotlib.axis.XTick at 0x7ff812b5a2e8>,\n",
              "  <matplotlib.axis.XTick at 0x7ff812b5a860>,\n",
              "  <matplotlib.axis.XTick at 0x7ff812b51898>,\n",
              "  <matplotlib.axis.XTick at 0x7ff812b43fd0>,\n",
              "  <matplotlib.axis.XTick at 0x7ff812b5ad68>,\n",
              "  <matplotlib.axis.XTick at 0x7ff812b60320>,\n",
              "  <matplotlib.axis.XTick at 0x7ff812b60898>,\n",
              "  <matplotlib.axis.XTick at 0x7ff812b60e10>,\n",
              "  <matplotlib.axis.XTick at 0x7ff812b673c8>,\n",
              "  <matplotlib.axis.XTick at 0x7ff812b67940>,\n",
              "  <matplotlib.axis.XTick at 0x7ff812b67eb8>,\n",
              "  <matplotlib.axis.XTick at 0x7ff812b677b8>,\n",
              "  <matplotlib.axis.XTick at 0x7ff812b607f0>,\n",
              "  <matplotlib.axis.XTick at 0x7ff812aee4a8>,\n",
              "  <matplotlib.axis.XTick at 0x7ff812aee978>,\n",
              "  <matplotlib.axis.XTick at 0x7ff812aeeef0>,\n",
              "  <matplotlib.axis.XTick at 0x7ff812af54a8>],\n",
              " <a list of 30 Text xticklabel objects>)"
            ]
          },
          "metadata": {
            "tags": []
          },
          "execution_count": 48
        },
        {
          "output_type": "execute_result",
          "data": {
            "text/plain": [
              "Text(0.5, 1.0, 'The Best Area for every Algorithm run')"
            ]
          },
          "metadata": {
            "tags": []
          },
          "execution_count": 48
        },
        {
          "output_type": "execute_result",
          "data": {
            "text/plain": [
              "Text(0.5, 0, 'Runs of Algorithm')"
            ]
          },
          "metadata": {
            "tags": []
          },
          "execution_count": 48
        },
        {
          "output_type": "execute_result",
          "data": {
            "text/plain": [
              "Text(0, 0.5, 'Accuracy of algorithm')"
            ]
          },
          "metadata": {
            "tags": []
          },
          "execution_count": 48
        },
        {
          "output_type": "execute_result",
          "data": {
            "text/plain": [
              "<matplotlib.collections.PathCollection at 0x7ff812af5f98>"
            ]
          },
          "metadata": {
            "tags": []
          },
          "execution_count": 48
        },
        {
          "output_type": "display_data",
          "data": {
            "image/png": "[encoded data removed]",
            "text/plain": [
              "<Figure size 1080x360 with 1 Axes>"
            ]
          },
          "metadata": {
            "tags": []
          }
        }
      ]
    },
    {
      "cell_type": "code",
      "metadata": {
        "id": "x3oArYUyaMxj",
        "colab_type": "code",
        "outputId": "4e4845b8-e25b-4b3e-e5bb-287271b550a5",
        "colab": {
          "base_uri": "https://localhost:8080/",
          "height": 34
        }
      },
      "source": [
        "# Mean Accuracy\n",
        "print('Mean Accuracy : {}'.format(mean(accuracy)))"
      ],
      "execution_count": 0,
      "outputs": [
        {
          "output_type": "stream",
          "text": [
            "Mean Accuracy : 89.96333333333334\n"
          ],
          "name": "stdout"
        }
      ]
    },
    {
      "cell_type": "code",
      "metadata": {
        "id": "Bh0v8-Mydf2f",
        "colab_type": "code",
        "outputId": "83f486eb-86e4-4bd9-e10b-6e165a67617f",
        "colab": {
          "base_uri": "https://localhost:8080/",
          "height": 399
        }
      },
      "source": [
        "plt.boxplot(accuracy,whis= 0.5)"
      ],
      "execution_count": 0,
      "outputs": [
        {
          "output_type": "execute_result",
          "data": {
            "text/plain": [
              "{'boxes': [<matplotlib.lines.Line2D at 0x7ff812e56b00>],\n",
              " 'caps': [<matplotlib.lines.Line2D at 0x7ff812e56e48>,\n",
              "  <matplotlib.lines.Line2D at 0x7ff812f5df60>],\n",
              " 'fliers': [<matplotlib.lines.Line2D at 0x7ff812e35ef0>],\n",
              " 'means': [],\n",
              " 'medians': [<matplotlib.lines.Line2D at 0x7ff812e35dd8>],\n",
              " 'whiskers': [<matplotlib.lines.Line2D at 0x7ff812e56438>,\n",
              "  <matplotlib.lines.Line2D at 0x7ff812e56978>]}"
            ]
          },
          "metadata": {
            "tags": []
          },
          "execution_count": 50
        },
        {
          "output_type": "display_data",
          "data": {
            "image/png": "[encoded data removed]",
            "text/plain": [
              "<Figure size 432x288 with 1 Axes>"
            ]
          },
          "metadata": {
            "tags": []
          }
        }
      ]
    },
    {
      "cell_type": "code",
      "metadata": {
        "id": "on0Qd5dwlT7_",
        "colab_type": "code",
        "colab": {}
      },
      "source": [
        ""
      ],
      "execution_count": 0,
      "outputs": []
    },
    {
      "cell_type": "markdown",
      "metadata": {
        "id": "GMIxH73smx-A",
        "colab_type": "text"
      },
      "source": [
        "### FOR SINGLE RUN OF ALGORITHM"
      ]
    },
    {
      "cell_type": "code",
      "metadata": {
        "id": "AmLt5EgKm2kN",
        "colab_type": "code",
        "outputId": "ff2e2847-dff2-498e-893a-b0ce982029d0",
        "colab": {
          "base_uri": "https://localhost:8080/",
          "height": 990
        }
      },
      "source": [
        "\n",
        "#! / Usr / bin / python\n",
        "# - * - coding: Latin-1 - * -\n",
        "# TP optim: surface maximization\n",
        "# by the PSO algorithm\n",
        "# Peio Loubiere for EISTI\n",
        "# September 2017\n",
        "#use: python surface.corr1.py\n",
        "from scipy import *\n",
        "from math import *\n",
        "import matplotlib.pyplot as plt\n",
        "from matplotlib.path import Path\n",
        "import matplotlib.patches as patches\n",
        "import sys\n",
        "import pyclipper\n",
        "from functools import *\n",
        "import numpy as np\n",
        "\n",
        "# Visualization of the plot\n",
        "fig1 = plt.figure(figsize=(10,10))\n",
        "canv = fig1.add_subplot(1,1,1)\n",
        "canv.set_xlim(0,500)\n",
        "canv.set_ylim(0,500)\n",
        "\n",
        "\n",
        "\n",
        "# ***************** Paramètres du problème ******************\n",
        "# Différent types of plots : \n",
        "polygon = ((10,10),(10,400),(400,400),(400,10)) \n",
        "# polygon = ((10,10),(10,300),(250,300),(350,130),(200,10)) \n",
        "#polygon = ((50,150),(200,50),(350,150),(350,300),(250,300),(200,250),(150,350),(100,250),(100,200))\n",
        "#polygon = ((50,50),(50,400),(220,310),(220,170),(330,170),(330,480),(450,480),(450,50))\n",
        "\n",
        "# ***********************************************************\n",
        "\n",
        "# Transforms the polygon into a list for display.\n",
        "def poly2list(polygon):\n",
        "\tpolygonfig = list(polygon)\n",
        "\tpolygonfig.append(polygonfig[0])\n",
        "\treturn polygonfig\n",
        "\n",
        "# Draw Constant polygon \n",
        "polygonfig = poly2list(polygon)\n",
        "\n",
        "# Display visualization\n",
        "def draw(polyfig,rectfig):\n",
        "\tglobal canv, codes\n",
        "\tcanv.clear()\n",
        "\tcanv.set_xlim(0,500)\n",
        "\tcanv.set_ylim(0,500)\n",
        "\t# polygon figure\n",
        "\tcodes = [Path.MOVETO]\n",
        "\tfor i in range(len(polyfig)-2):\n",
        "\t  codes.append(Path.LINETO)   \n",
        "\tcodes.append(Path.CLOSEPOLY)\n",
        "\tpath = Path(polyfig, codes)\n",
        "\tpatch = patches.PathPatch(path, facecolor='orange', lw=2)\n",
        "\tcanv.add_patch(patch)\n",
        "\n",
        "\t# rectangle figure\n",
        "\tcodes = [Path.MOVETO]\n",
        "\tfor i in range(len(rectfig)-2):\n",
        "\t  codes.append(Path.LINETO)   \n",
        "\tcodes.append(Path.CLOSEPOLY)\n",
        "\tpath = Path(rectfig, codes)\n",
        "\tpatch = patches.PathPatch(path, facecolor='grey', lw=2)\n",
        "\tcanv.add_patch(patch)\n",
        "\n",
        "\t# Title(Area of Rectangle)\n",
        "\tplt.title(\"Max Area of my House: {}\".format(round(area(rectfig[:-1]),2)))\n",
        "\tplt.draw()\n",
        " \t#plt.savefig('H:/Desktop/Hproject/Plot.png')\n",
        "\tplt.pause(0.1)\n",
        "\n",
        "def dispRes(best):\n",
        "\tprint(\"Point = {}\".format(best['pos']))\n",
        "\tprint(\"rectangle coordinate = {}\".format(pos2rect(best['pos'])))\n",
        "\tprint(\"Best Area = {}\".format(best['area']))\t\n",
        "\t\n",
        "def drawStats(Htemps, Hbest):\n",
        "\t# afFILEhage des courbes d'evolution\n",
        "\tfig = plt.figure(2,figsize=(10,5))\n",
        "\t#add_subplot(1,1,1)\n",
        "\tplt.semilogy(Htemps, Hbest)\n",
        "\tplt.title('Evolution of the best distance')\n",
        "\tplt.xlabel('Time')\n",
        "\tplt.ylabel('Area')\n",
        "\n",
        "\t#legend(mains, title='Optimization functions')\n",
        "\t#plt.tight_layout()\n",
        "\t#plt.show()\n",
        "\tplt.savefig('H:\\Desktop\\Hproject\\Converging_Area.png')\n",
        "\t\n",
        "\t\n",
        "# Collect the boundaries of the bounding box around the parcel\n",
        "def getbounds(polygon):\n",
        "\tlpoly = list(polygon) #tansformation into list for use with reduce function\n",
        "\t#return reduce(lambda (xmin,xmax,ymin,ymax),(xe,ye): (min(xe,xmin),max(xe,xmax),min(ye,ymin),max(ye,ymax)),lpoly[1:],(lpoly[0][0],lpoly[0][0],lpoly[0][1],lpoly[0][1]))\n",
        "\treturn reduce(lambda acc,e: (min(e[0],acc[0]),max(e[0],acc[1]),min(e[1],acc[2]),max(e[1],acc[3])),lpoly[1:],(lpoly[0][0],lpoly[0][0],lpoly[0][1],lpoly[0][1]))\n",
        "\n",
        "# Transformation of a solution of the pb (center / corner / angle) in rectangle for clipping\n",
        "# Returns a rectangle (A (x1, y1), B (x2, y2), C (x3, y3), D (x4, y4))\n",
        "def pos2rect(pos):\n",
        "\t# coin : point A\n",
        "\txa, ya = pos[0], pos[1]\n",
        "\t# centre du rectangle : point O\n",
        "\txo, yo = pos[2], pos[3]\n",
        "\t# angle  AÔD\n",
        "\tangle = pos[4]\n",
        "\n",
        "\t# point D : centre for rotation O, at the Angle alpha\n",
        "\talpha = pi * angle / 180 # degre en radian\n",
        "\txd = cos(alpha)*(xa-xo) - sin(alpha)*(ya-yo) + xo \n",
        "\tyd = sin(alpha)*(xa-xo) + cos(alpha)*(ya-yo) + yo\n",
        "\t# point C : symétrique de A, de centre O\n",
        "\txc, yc = 2*xo - xa, 2*yo - ya \n",
        "\t# point B : symétrique de D, de centre O\n",
        "\txb, yb = 2*xo - xd, 2*yo - yd\n",
        "\n",
        "\t# round for clipping\n",
        "\treturn ((round(xa),round(ya)),(round(xb),round(yb)),(round(xc),round(yc)),(round(xd),round(yd)))\n",
        "\n",
        "\t\n",
        "# Distance between 2 points (x1,y1), (x2,y2)\n",
        "def distance(p1,p2):\n",
        "\treturn sqrt((p1[0]-p2[0])**2 + (p1[1]-p2[1])**2)\n",
        "\n",
        "# Area of Rectangle (A (x1, y1), B (x2, y2), C (x3, y3), D (x4, y4))\n",
        "# = distance AB * distance BC\n",
        "def area(pos):\n",
        "\tedge1=(pos[0],pos[1])\n",
        "\tedge2=(pos[1],pos[2])\n",
        "\t#print(pos[0],pos[1],pos[2],pos[3])\n",
        "\t#print(distance(p1[0],p1[1])* distance(p2[0],p2[1]))\n",
        "\treturn round(distance(edge1[0],edge1[1])* distance(edge2[0],edge2[1]),2)\n",
        "\n",
        "# Clipping\n",
        "# Predicate that verifies that the rectangle is in the polygon\n",
        "# Test if\n",
        "# - there is an intersection (! = []) between the figures and\n",
        "# - the two lists are the same size and\n",
        "# - all the points of the rectangle belong to the result of the clipping\n",
        "# If error (~ flat angle), returns false\n",
        "\n",
        "def verifyconstraint(rect, polygon):\n",
        "\ttry:\n",
        "\t\t# Config\n",
        "\t\tpc = pyclipper.Pyclipper()\n",
        "\t\tpc.AddPath(polygon, pyclipper.PT_SUBJECT, True)\n",
        "\t\tpc.AddPath(rect, pyclipper.PT_CLIP, True)\n",
        "\t\t# Clipping\n",
        "\t\tclip = pc.Execute(pyclipper.CT_INTERSECTION, pyclipper.PFT_EVENODD, pyclipper.PFT_EVENODD)\n",
        "\t\t#all(iterable) return True if all elements of the iterable are true (or if the iterable is empty)\t\t\n",
        "\t\treturn (clip!=[]) and (len(clip[0])==len(rect)) and all(list(map(lambda e:list(e) in clip[0], rect)))\n",
        "\texcept pyclipper.ClipperException:\n",
        "\t\t# print rect\n",
        "\t\treturn False\n",
        "\n",
        "\n",
        "# Create an individual (center / corner / angle) FEASABLE\n",
        "# an individual is described by your metaheuristic containing at least:\n",
        "# - pos: solution (center / corner / angle) list of variables\n",
        "# - area: area of ​​the rectangle\n",
        "# - ...: other components of the individual\n",
        "\n",
        "def initUn(polygon):\n",
        "\tglobal xmin,xmax,ymin,ymax\n",
        "\tanglemin = 1.00\n",
        "\tanglemax = 89.00\n",
        "\tboolOK = False\n",
        "\tpos = []\n",
        "\twhile not boolOK: # as long as it is not feasible\n",
        "\t\txo=random.uniform(xmin,xmax)\n",
        "\t\tyo=random.uniform(ymin,ymax)\n",
        "\t\t\n",
        "\t\txa=xo+pow(-1,random.randint(0,1))*random.uniform(10,min(xo-xmin,xmax-xo))\n",
        "\t\tya=yo+pow(-1,random.randint(0,1))*random.uniform(10,min(yo-ymin,ymax-yo))\n",
        "\t\tangle = random.uniform(anglemin,anglemax)\n",
        "\n",
        "\t\tpos = [round(xa),round(ya),round(xo),round(yo),angle]\n",
        "\t\trect = pos2rect(pos)\n",
        "\t\t#print(rect)\n",
        "\t\t# calcul du clipping\n",
        "\t\tboolOK = verifyconstraint(rect,polygon)\n",
        "\tev = round(area(pos2rect(pos)),2)\n",
        "\treturn {'vit':[0]*dim, 'pos':pos, 'area':ev ,'bestpos':pos, 'bestarea':ev, 'bestvois':[]}\n",
        "\n",
        "# Initialization of the population\n",
        "def initPop(nb,polygon):\n",
        "\treturn [initUn(polygon) for i in range(nb)]\n",
        "\n",
        "# Returns the best particle between two: depends on the metaheuristic\n",
        "def bestPartic(p1,p2):\n",
        "\t#print('comparison')\n",
        "\t#print('------------------------')\n",
        "\t#print(p1)\n",
        "\t#print('------------------------')\n",
        "\t#breakpoint()\n",
        "\tif (p1[\"area\"] < p2[\"area\"]):\n",
        "\t\treturn p2 \n",
        "\telse:\n",
        "\t\treturn p1\n",
        "\t\n",
        "# Return a copy of the best particle of the population\n",
        "def getBest(population):\n",
        "\t#print(dict(reduce(lambda acc, e: bestPartic(acc,e),population[1:],population[0])))\n",
        "\treturn dict(reduce(lambda acc, e: bestPartic(acc,e),population[1:],population[0]))\n",
        "\n",
        "\n",
        "#\"\"\"\n",
        "#PSO ALGORITH IMPLEMENTATION\n",
        "#\"\"\"\n",
        "\t\t\n",
        "\n",
        "# Initialization of the population (swarm)\n",
        "def initSwarm(nb,polygon):\n",
        "\treturn [initUn(polygon) for i in range(nb)]\n",
        "\n",
        "\n",
        "# # Return the particle with the best fitness\n",
        "# def maxParticle(p1, p2):\n",
        "\t# if (p1[\"area\"] < p2[\"area\"]):\n",
        "\t\t# return p1\n",
        "\t# else:\n",
        "\t\t# return p2\n",
        "\n",
        "# Calculate the velocity and move a paticule\n",
        "def move(particle,dim):\n",
        "\tglobal c1,c2,psi,cmax\n",
        "\n",
        "\tnv = dict(particle)\n",
        "\t#everytime a new dictionary is created for the single particle of swarm\n",
        "\t#print('--------------------******************-----------')\n",
        "\t#print(nv)\n",
        "\t#break;\n",
        "\t#velocity for 5 parameters\n",
        "\tvelocity = [0]*dim\n",
        "\tfor i in range(dim):\n",
        "\t\tvelocity[i] = (particle[\"vit\"][i]*psi + \\\n",
        "\t\tcmax*random.uniform()*(particle[\"bestpos\"][i] - particle[\"pos\"][i]) + \\\n",
        "\t\tcmax*random.uniform()*(particle[\"bestvois\"][i] - particle[\"pos\"][i]))\n",
        "\tposition = [0]*dim\n",
        "\tfor i in range(dim):\n",
        "\t\tposition[i] = particle[\"pos\"][i] + velocity[i]\n",
        "\t\t#if i==4:\n",
        "\t\t\t#position[i] = round(particle[\"pos\"][i] + velocity[i])\n",
        "\t# New position might contradict my dimension constraint\n",
        "\t# i need to verify that cordinates and angle give me a rectangle \n",
        "\t# which lies in the polgon plot of land\n",
        "\t#print(\"the angle is \")\n",
        "\t#print(position[4])\n",
        "\tif (position[4] <1.00 or position[4]>89.00):\n",
        "\t\tposition = particle[\"pos\"]\n",
        "\t\t#move(particle,dim)\n",
        "\tif (verifyconstraint(pos2rect(position),polygon) == False): \n",
        "\t\tposition = particle[\"pos\"]\n",
        "\t#breakpoint()\n",
        "\tnv['vit'] = velocity\n",
        "\tnv['pos'] = position\n",
        "\tnv['area'] = round(area(pos2rect(position)),2)\n",
        "\treturn nv\t\t\n",
        "\t\t\n",
        "# Update information for the particles of the population (swarm)\n",
        "def update(particle,bestParticle):\n",
        "\tnv = dict(particle)\n",
        "\t#print('--******************************************---')\n",
        "\t#print(particle[\"area\"])\n",
        "\t#print(particle[\"bestarea\"])\n",
        "\t#print(nv)\n",
        "\t#print('--******************************************---')\n",
        "\t#breakpoint()\n",
        "\tif(particle[\"area\"] > particle[\"bestarea\"]):\n",
        "\t\tnv['bestpos'] = particle[\"pos\"][:]\n",
        "\t\tnv['bestarea'] = particle[\"area\"]\n",
        "\tnv['bestvois'] = bestParticle[\"bestpos\"][:]\n",
        "\t#print(nv)\n",
        "\t#breakpoint()\n",
        "\treturn nv\t\t\n",
        "\t\t\n",
        "\t\t\n",
        "\t\t\n",
        "\t\t\n",
        "Htemps = []       # temps\n",
        "Hbest = []\n",
        "\n",
        "# ************ Parameters of the metaheuristic *** PSO = 10000 DE = 1500 ********* NB indiv 20 *\n",
        "Nb_cycles = 10000\n",
        "Nb_Indiv = 20\n",
        "\n",
        "# ***********************************************************\n",
        "global DIM,dim\n",
        "DIM = 5\n",
        "dim = 5\n",
        "# usual params\n",
        "psi, cmax = (0.4, 1.41)\n",
        "\n",
        "\n",
        "xmin,xmax,ymin,ymax = getbounds(polygon)\n",
        "#print(xmin,xmax,ymin,ymax)\n",
        "\n",
        "# initialisation of the population (of the agent if simulated annealing) and the best individual.\n",
        "swarm = initPop(Nb_Indiv,polygon)\n",
        "#print('initial swarm')\n",
        "#print(swarm)\n",
        "#breakpoint()\n",
        "best = getBest(swarm)\n",
        "#print(best)\n",
        "#print('------best out of swarm--------')\n",
        "best_plot = best\n",
        "#print(best_plot)\n",
        "#breakpoint()\n",
        "# -------- Code is working fine till here --------------\n",
        "\n",
        "\n",
        "\n",
        "areali = []\n",
        "coordli = []\n",
        "\n",
        "for i in range(Nb_cycles):\n",
        "\t#Update informations\n",
        "\t#print(\"  Current Cycle is  {}\".format(i))\n",
        "\tswarm = [update(e,best_plot) for e in swarm]\n",
        "\t#print('iterative swarm')\n",
        "\t#print(swarm)\n",
        "\t#breakpoint()\n",
        "\t# velocity calculations and displacement\n",
        "\tswarm = [move(e,DIM) for e in swarm]\n",
        "\t# Update of the best solution\n",
        "\t#print('printing all the swarms')\n",
        "\t#print(swarm)\n",
        "\tbest_plot = getBest(swarm)\n",
        "\t#print(\"---------------best_plot VS best--------------------\")\n",
        "\t#print(\"{}  V/S {}\".format(best_plot['area']).format(best['area']))\n",
        "\t#print(best)\n",
        "\t#print('printing the best plot')\n",
        "\t#print(best_plot)\n",
        "\n",
        "\n",
        "\tif (best_plot[\"area\"] > best[\"area\"]):\n",
        "\t\tbest = best_plot\n",
        "\t\t# draw(best['pos'], best['fit'])\n",
        "\t#print(\"---------------And the best is --------------------\")\n",
        "\t#print(best['area'])\n",
        "\tcoordli.append(best['pos'])\n",
        "\tareali.append(best['area'])\n",
        "\t#breakpoint()\n",
        "\t# historization of data\n",
        "\tif i % 10 == 0:\n",
        "\t\tHtemps.append(i)\n",
        "\t\tHbest.append(best['area'])\n",
        "\n",
        "\t# # swarm display\n",
        "\t# if i % 10 == 0:\n",
        "\t\t# draw(swarm,i)\n",
        "\n",
        "# END, displaying results\n",
        "Htemps.append(i)\n",
        "Hbest.append(best['area'])\n",
        "dispRes(best)\n",
        "#print(pos2rect(best[\"pos\"]))\n",
        "#print(area(pos2rect(best[\"pos\"])))\n",
        "draw(polygonfig, poly2list(pos2rect(best[\"pos\"])))\n",
        "plt.show()\t\t\n",
        "#displaying result on the console\n",
        "drawStats(Htemps, Hbest)\t\n",
        "#\"\"\"\n",
        "#END OF PSO ALGORITHM\n",
        "#\"\"\"\n",
        "#for i in range(Nb_cycles):\n",
        "#\tprint(\"the best area at the {} iteration with the coordinates {} is  {}.m^2 \" .format(i,coordli[i],areali[i]))\n",
        "\n",
        "\n"
      ],
      "execution_count": 0,
      "outputs": [
        {
          "output_type": "execute_result",
          "data": {
            "text/plain": [
              "(0, 500)"
            ]
          },
          "metadata": {
            "tags": []
          },
          "execution_count": 56
        },
        {
          "output_type": "execute_result",
          "data": {
            "text/plain": [
              "(0, 500)"
            ]
          },
          "metadata": {
            "tags": []
          },
          "execution_count": 56
        },
        {
          "output_type": "stream",
          "text": [
            "Point = [393.296495800775, 400.00035814074266, 201.89479141926904, 204.80531532358137, 88.99594823085317]\n",
            "rectangle coordinate = ((393, 400), (394, 10), (10, 10), (10, 400))\n",
            "Best Area = 149760.49\n"
          ],
          "name": "stdout"
        },
        {
          "output_type": "display_data",
          "data": {
            "image/png": "[encoded data removed]",
            "text/plain": [
              "<Figure size 720x720 with 1 Axes>"
            ]
          },
          "metadata": {
            "tags": []
          }
        },
        {
          "output_type": "display_data",
          "data": {
            "image/png": "[encoded data removed]",
            "text/plain": [
              "<Figure size 720x360 with 1 Axes>"
            ]
          },
          "metadata": {
            "tags": []
          }
        }
      ]
    },
    {
      "cell_type": "code",
      "metadata": {
        "id": "oBruWjVVnQjr",
        "colab_type": "code",
        "outputId": "a8fad086-6cc0-41dc-bca5-c7c4e0ba865f",
        "colab": {
          "base_uri": "https://localhost:8080/",
          "height": 312
        }
      },
      "source": [
        "plt.semilogy(Htemps, Hbest)\n",
        "plt.title('Evolution of the best distance')\n",
        "plt.xlabel('Time')\n",
        "plt.ylabel('Area')\n",
        "\n",
        "#legend(mains, title='Optimization functions')\n",
        "#plt.tight_layout()\n",
        "plt.show()\n",
        "#plt.savefig('H:/Desktop/land.png')"
      ],
      "execution_count": 0,
      "outputs": [
        {
          "output_type": "execute_result",
          "data": {
            "text/plain": [
              "[<matplotlib.lines.Line2D at 0x7ff80649b358>]"
            ]
          },
          "metadata": {
            "tags": []
          },
          "execution_count": 64
        },
        {
          "output_type": "execute_result",
          "data": {
            "text/plain": [
              "Text(0.5, 1.0, 'Evolution of the best distance')"
            ]
          },
          "metadata": {
            "tags": []
          },
          "execution_count": 64
        },
        {
          "output_type": "execute_result",
          "data": {
            "text/plain": [
              "Text(0.5, 0, 'Time')"
            ]
          },
          "metadata": {
            "tags": []
          },
          "execution_count": 64
        },
        {
          "output_type": "execute_result",
          "data": {
            "text/plain": [
              "Text(0, 0.5, 'Area')"
            ]
          },
          "metadata": {
            "tags": []
          },
          "execution_count": 64
        },
        {
          "output_type": "display_data",
          "data": {
            "image/png": "[encoded data removed]",
            "text/plain": [
              "<Figure size 432x288 with 1 Axes>"
            ]
          },
          "metadata": {
            "tags": []
          }
        }
      ]
    },
    {
      "cell_type": "code",
      "metadata": {
        "id": "yuFt5f04sJqD",
        "colab_type": "code",
        "colab": {}
      },
      "source": [
        ""
      ],
      "execution_count": 0,
      "outputs": []
    }
  ]
}